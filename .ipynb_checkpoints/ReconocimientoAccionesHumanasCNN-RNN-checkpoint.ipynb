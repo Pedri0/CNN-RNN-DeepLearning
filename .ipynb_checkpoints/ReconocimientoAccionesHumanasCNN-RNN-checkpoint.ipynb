{
 "cells": [
  {
   "cell_type": "markdown",
   "metadata": {},
   "source": [
    "# Reconocimiento de acciones humanas\n",
    "\n",
    "Comparar arquitecturas RNN y CNN para reconocimiento de acciones humanas en el conjunto UCF11. La solución debe cumplir con los siguientes puntos:\n",
    "* Usar las características convolucionales vistas en clase (dataset: https://cloud.xibalba.com.mx/s/QwapfBYpYNmNbPP)\n",
    "* Implementar una arquitectura RNN bidireccional con una capa GRU.\n",
    "* Implementar una arquitectura CNN con una capa Conv1d.\n",
    "* Modificar el tamaño de las capas para que ambos modelos tengan un número similar de parámetros.\n",
    "* Discutir el comportamiento durante el entrenamiento y resultados finales en ambos conjuntos."
   ]
  },
  {
   "cell_type": "markdown",
   "metadata": {},
   "source": [
    "<a href=\"https://colab.research.google.com/drive/1O9aqK_GZ5Pb0i6PofOI6vuVx29GvLJLb?usp=sharing\" target=\"_parent\"><img src=\"https://colab.research.google.com/assets/colab-badge.svg\" alt=\"Open In Colab\"/></a>"
   ]
  },
  {
   "cell_type": "code",
   "execution_count": 1,
   "metadata": {},
   "outputs": [
    {
     "name": "stdout",
     "output_type": "stream",
     "text": [
      "Requirement already satisfied: torch-summary in c:\\programdata\\anaconda3\\lib\\site-packages (1.4.5)\n",
      "Requirement already satisfied: zarr in c:\\programdata\\anaconda3\\lib\\site-packages (2.6.1)\n",
      "Requirement already satisfied: numcodecs>=0.6.4 in c:\\programdata\\anaconda3\\lib\\site-packages (from zarr) (0.7.2)\n",
      "Requirement already satisfied: asciitree in c:\\programdata\\anaconda3\\lib\\site-packages (from zarr) (0.3.3)\n",
      "Requirement already satisfied: numpy>=1.7 in c:\\programdata\\anaconda3\\lib\\site-packages (from zarr) (1.17.5)\n",
      "Requirement already satisfied: fasteners in c:\\programdata\\anaconda3\\lib\\site-packages (from zarr) (0.16)\n",
      "Requirement already satisfied: six in c:\\programdata\\anaconda3\\lib\\site-packages (from fasteners->zarr) (1.15.0)\n"
     ]
    }
   ],
   "source": [
    "!pip install torch-summary\n",
    "!pip install zarr"
   ]
  },
  {
   "cell_type": "code",
   "execution_count": 2,
   "metadata": {},
   "outputs": [
    {
     "data": {
      "text/plain": [
       "<torch._C.Generator at 0x1469ffed0b0>"
      ]
     },
     "execution_count": 2,
     "metadata": {},
     "output_type": "execute_result"
    }
   ],
   "source": [
    "#importamos librerias utiles \n",
    "#deep learning\n",
    "import torch\n",
    "from torch.utils.data import DataLoader\n",
    "import torch.nn as nn\n",
    "import torch.nn.functional as func\n",
    "import torch.optim as optimizerr\n",
    "import torchvision.datasets.utils as tutils\n",
    "import torchvision.datasets as DataSets\n",
    "from torchvision import transforms\n",
    "from torch.utils.data import Dataset, DataLoader, random_split\n",
    "import torchvision.transforms as transforms\n",
    "from torchsummary import summary\n",
    "import torchvision.models as torchModels\n",
    "from torch.utils.tensorboard import SummaryWriter\n",
    "#matrices y matematicas\n",
    "import numpy as np\n",
    "import pandas as pd\n",
    "# tomar n elementos de una secuencia\n",
    "from itertools import islice as take\n",
    "#imagenes\n",
    "from matplotlib import pyplot as plt\n",
    "#arreglos multidimensionales\n",
    "import zarr\n",
    "#descarga de archivos\n",
    "import wget\n",
    "#para acceder a ficheros del sistema\n",
    "import os\n",
    "import glob\n",
    "#para descomprimir el archivo UTKFace.tar.gz\n",
    "import tarfile\n",
    "# barra de progreso\n",
    "from tqdm import trange\n",
    "#para reproducibilidad\n",
    "import random\n",
    "random.seed(1)\n",
    "np.random.seed(1)\n",
    "torch.manual_seed(1)"
   ]
  },
  {
   "cell_type": "code",
   "execution_count": 3,
   "metadata": {},
   "outputs": [
    {
     "name": "stdout",
     "output_type": "stream",
     "text": [
      "Usando cuda:0\n"
     ]
    }
   ],
   "source": [
    "#para usar la GPU si esta disponible\n",
    "if torch.cuda.is_available():  \n",
    "    dev = \"cuda:0\" \n",
    "else:  \n",
    "    dev = \"cpu\"\n",
    "\n",
    "device = torch.device(dev)\n",
    "print('Usando {}'.format(device))"
   ]
  },
  {
   "cell_type": "markdown",
   "metadata": {},
   "source": [
    "### UCF 11: Youtube Action Data Set\n",
    "contiene 11 cantegorias de acciones humanas: basketball shooting, biking or cycling, diving, golf swinging, horse back riding, soccer juggling, swinging, trampoline jumping, volleyball spiking and walking with a dog"
   ]
  },
  {
   "cell_type": "markdown",
   "metadata": {},
   "source": [
    "## Carga del dataset en pytorch"
   ]
  },
  {
   "cell_type": "code",
   "execution_count": 4,
   "metadata": {},
   "outputs": [],
   "source": [
    "class UCF11(Dataset):\n",
    "    #funcion instanciadora\n",
    "    def __init__(self, directory, download = False):\n",
    "        #definimos variable \"global\" de la clase\n",
    "        self.directory = directory\n",
    "        #definimos el directorio donde estaran los datos, tambien es variable \"global\"\n",
    "        self.zarrDirectory = os.path.join(self.directory, 'ucf11.zarr')\n",
    "        #si download=True\n",
    "        if download:\n",
    "            #aplica el metodo downloadDataset\n",
    "            self.downloadDataset()\n",
    "        #define variable para abrir el los archivos .zarr\n",
    "        self.zar = zarr.open(self.zarrDirectory, 'r')\n",
    "        #lista los directorios contenidos dentro del directorio\n",
    "        self.paths = list(self.zar.array_keys())\n",
    "    #metodo para extraer items del dataset        \n",
    "    def __getitem__(self, idx):\n",
    "        #extrae un elemento contenida dentro del directorio paths con id idx\n",
    "        array = self.zar[self.paths[idx]]\n",
    "        #convierte a matriz el elemento extraido\n",
    "        x = np.array(array)\n",
    "        #extrae su etiqueta\n",
    "        y = np.array(array.attrs['y'], dtype = np.int64)\n",
    "        #regresa la matriz y su etiqueta\n",
    "        return x , y\n",
    "    #metodo para extraer la cantidad de datos en dataset\n",
    "    def __len__(self):\n",
    "        return len(self.paths)\n",
    "    #metodo para descargar los datos\n",
    "    def downloadDataset(self):\n",
    "        #funcioon de pytorch que permite descargar los datos\n",
    "        tutils.download_and_extract_archive(\n",
    "            #url de los datos\n",
    "            url = 'http://cloud.xibalba.com.mx/s/QwapfBYpYNmNbPP/download',\n",
    "            #ruta donde se guardan los datos\n",
    "            download_root = self.directory,\n",
    "            #nombre del archivo a descargar\n",
    "            filename = 'ucf11.zarr.tar.gz'\n",
    "        )"
   ]
  },
  {
   "cell_type": "markdown",
   "metadata": {},
   "source": [
    "### Instanciando el dataset"
   ]
  },
  {
   "cell_type": "code",
   "execution_count": 5,
   "metadata": {},
   "outputs": [
    {
     "name": "stdout",
     "output_type": "stream",
     "text": [
      "Using downloaded and verified file: dataUCF\\ucf11.zarr.tar.gz\n",
      "Extracting dataUCF\\ucf11.zarr.tar.gz to dataUCF\n",
      "El dataset consta de 1599 muestras\n",
      "Los datos \"duros\" son matrices de dimensiones (10, 1024)\n",
      "Las clases son enteros\n"
     ]
    }
   ],
   "source": [
    "dataset = UCF11('dataUCF', True)\n",
    "print('El dataset consta de {} muestras'.format(len(dataset)))\n",
    "sampleX , sampleY = dataset[499]\n",
    "print('Los datos \"duros\" son matrices de dimensiones {}'.format(sampleX.shape))\n",
    "print('Las clases son enteros')\n",
    "#limpiamos las variables\n",
    "sampleX, sampleY = None, None"
   ]
  },
  {
   "cell_type": "markdown",
   "metadata": {},
   "source": [
    "### Conjuntos de entrenamiento y prueba"
   ]
  },
  {
   "cell_type": "code",
   "execution_count": 6,
   "metadata": {},
   "outputs": [
    {
     "name": "stdout",
     "output_type": "stream",
     "text": [
      "La suma de los enteros trainSize y testSize es 1599\n",
      "La suma de la longitud de train y test es 1599\n"
     ]
    }
   ],
   "source": [
    "#definimos el tamaño de los conjuntos de prueba y entrenamiento\n",
    "trainSize = int(0.8 * len(dataset))\n",
    "testSize = int(len(dataset) - trainSize)\n",
    "#hacemos un print para verificar que no se quedaron datos sin asignar\n",
    "print('La suma de los enteros trainSize y testSize es {}'.format(testSize+trainSize))\n",
    "#instanciamos los datasets de entrenamiento y prueba a partir del deataset general shufleado\n",
    "train, test = random_split(dataset, [trainSize ,testSize])\n",
    "#hacemos un print para verificar que no se quedaron datos sin asignar\n",
    "print('La suma de la longitud de train y test es {}'.format(len(test)+len(train)))"
   ]
  },
  {
   "cell_type": "markdown",
   "metadata": {},
   "source": [
    "### Cargando datos"
   ]
  },
  {
   "cell_type": "code",
   "execution_count": 7,
   "metadata": {},
   "outputs": [
    {
     "name": "stdout",
     "output_type": "stream",
     "text": [
      "x de train shape=torch.Size([32, 10, 1024]) dtype=torch.float32\n",
      "y de train shape=torch.Size([32]) dtype=torch.int64\n",
      "x de test shape=torch.Size([32, 10, 1024]) dtype=torch.float32\n",
      "y de test shape=torch.Size([32]) dtype=torch.int64\n"
     ]
    }
   ],
   "source": [
    "#creamos el cargador de datos de entrenamiento con un tamaño de lote de 64, se hace shuffle.\n",
    "#no usar otro numero de num_workers de cero porque si no no jala ¿Error de pytorch?\n",
    "trainLoader = DataLoader(train, batch_size=32, shuffle = True, num_workers=0)\n",
    "#creamos el cargador de datos de prueba con un tamaño de lote de 64, se hace shuffle.\n",
    "#no usar otro numero de num_workers de cero porque si no no jala ¿Error de pytorch?\n",
    "testLoader = DataLoader(test, batch_size=32, shuffle = True, num_workers=0)\n",
    "\n",
    "#verificamos que los datos se hayan cargado correctamente\n",
    "x, y = next(iter(trainLoader))\n",
    "print(f'x de train shape={x.shape} dtype={x.dtype}')\n",
    "print(f'y de train shape={y.shape} dtype={y.dtype}')\n",
    "x, y = next(iter(testLoader))\n",
    "print(f'x de test shape={x.shape} dtype={x.dtype}')\n",
    "print(f'y de test shape={y.shape} dtype={y.dtype}')"
   ]
  },
  {
   "cell_type": "markdown",
   "metadata": {},
   "source": [
    "## Definición de la arquitectura RNN-GRU bidireccional"
   ]
  },
  {
   "cell_type": "code",
   "execution_count": 8,
   "metadata": {},
   "outputs": [],
   "source": [
    "#creamos la clase RNN\n",
    "class RNN(nn.Module):\n",
    "    #metodo instanciador, inputSize: longitud de la entrada x. hiddenSize: tamaño\n",
    "    #de las caracteristicas del estado oculto h.\n",
    "    def __init__(self, inputSize=1024, hiddenSize = 128, numClasses = 11):\n",
    "        #instanciamos a la clase padre RNN de pytorch\n",
    "        super(RNN, self).__init__()\n",
    "        #definimos nuestra capa de normalizacion por lotes\n",
    "        self.batchNorm = nn.BatchNorm1d(inputSize)\n",
    "        #definimos la capa recurrente GRU bidireccional (bidireccional=True)\n",
    "        self.recurrentNN = nn.GRU(input_size=inputSize, hidden_size = hiddenSize, num_layers = 1, \n",
    "                                  batch_first=True, bidirectional=True)\n",
    "        #La capa GRU bidireccional escupe un vector de longitud 2 veces el tamaño del estado oculto\n",
    "        #definimos nuestra capa lineal que recibe un vector de longitud 2 veces el estado oculto\n",
    "        self.classifierN = nn.Linear(2*hiddenSize, numClasses)\n",
    "    #propagacion    \n",
    "    def forward(self, x):\n",
    "        #Los datos vienen como [batch, secuencia, caracteristicas] los permutamos a\n",
    "        # [batch, caract, secuencia] para pasarlos por el batchNorm\n",
    "        x = x.permute(0, 2, 1)\n",
    "        #batchnorm\n",
    "        x = self.batchNorm(x)\n",
    "        #repermutamos al estado original\n",
    "        x = x.permute(0, 2, 1)\n",
    "        #RNN escupe la salida out y el estado oculto h_n\n",
    "        x, h = self.recurrentNN(x)\n",
    "        #tiramos a la basura h porque no hay otras RNN conectadas a esta.\n",
    "        #calculamos la media de las salidas (x)\n",
    "        x = torch.mean(x,1)\n",
    "        #clasificador\n",
    "        x = self.classifierN(x)\n",
    "        #regresa la clasificacion\n",
    "        return x"
   ]
  },
  {
   "cell_type": "code",
   "execution_count": 9,
   "metadata": {},
   "outputs": [
    {
     "data": {
      "text/plain": [
       "==========================================================================================\n",
       "Layer (type:depth-idx)                   Output Shape              Param #\n",
       "==========================================================================================\n",
       "├─BatchNorm1d: 1-1                       [-1, 1024, 10]            2,048\n",
       "├─GRU: 1-2                               [-1, 10, 256]             886,272\n",
       "├─Linear: 1-3                            [-1, 11]                  2,827\n",
       "==========================================================================================\n",
       "Total params: 891,147\n",
       "Trainable params: 891,147\n",
       "Non-trainable params: 0\n",
       "Total mult-adds (M): 0.89\n",
       "==========================================================================================\n",
       "Input size (MB): 0.04\n",
       "Forward/backward pass size (MB): 0.10\n",
       "Params size (MB): 3.40\n",
       "Estimated Total Size (MB): 3.54\n",
       "=========================================================================================="
      ]
     },
     "execution_count": 9,
     "metadata": {},
     "output_type": "execute_result"
    }
   ],
   "source": [
    "#instanciamos nuestro modelo RNN-GRU bidireccional\n",
    "modelRNN = RNN()\n",
    "#pasamos nuestro modelo al device\n",
    "modelRNN = modelRNN.to(device)\n",
    "#imprimimos el summary del modelo\n",
    "summary(modelRNN, (10, 1024), device = device, verbose = 0)"
   ]
  },
  {
   "cell_type": "markdown",
   "metadata": {},
   "source": [
    "## Definición de la arquitectura convolucional"
   ]
  },
  {
   "cell_type": "code",
   "execution_count": 10,
   "metadata": {},
   "outputs": [],
   "source": [
    "#creamos una clase de un solo bloque convolucional 1d\n",
    "class ConvBlock(nn.Module):\n",
    "    #definimos su metodo instanciador, este metodo permite seleccionar el tamaño del\n",
    "    #kernel, padding de la conv1d y el tipo de maxpoll1d (avg o max) kernel y pading fijos\n",
    "    def __init__(self, inChannels, outChannels, kernelSize, padding, MaxPool = True):\n",
    "        #instanciamos a la clase padre CNN de pytorch\n",
    "        super(ConvBlock, self).__init__()\n",
    "        #definimos el bloque convolucional como una secuencial\n",
    "        self.ConvNN = nn.Sequential(\n",
    "            #aplicamos la convolucion1d con los parametros del metodo\n",
    "            nn.Conv1d(in_channels = inChannels, out_channels = outChannels,\n",
    "                      kernel_size = kernelSize, padding = padding),\n",
    "            #aplicamos una funcion de activación relu que es nuestro caballo de batalla\n",
    "            nn.ReLU(),\n",
    "            #aplicamos maxpol1d si MaxPool=True, en otro caso aplicamos un AvgPool1d\n",
    "            nn.MaxPool1d(kernel_size = 2, stride = 2) if MaxPool else nn.AvgPool1d(2,2),\n",
    "        )\n",
    "    #funcion propagadora\n",
    "    def forward(self,x):\n",
    "        #propaga la capa convolucional\n",
    "        x = self.ConvNN(x)\n",
    "        #este print es para realizar debug sobre el modelo\n",
    "        #print(x.shape)\n",
    "        #regresa el resultado de aplicar el bloque convolucional\n",
    "        return x"
   ]
  },
  {
   "cell_type": "code",
   "execution_count": 11,
   "metadata": {},
   "outputs": [],
   "source": [
    "#define el modelo CNN\n",
    "class CNN(nn.Module):\n",
    "    #metodo instanciador\n",
    "    def __init__(self):\n",
    "        #llamamos a la clase padre de pytorch\n",
    "        super(CNN, self).__init__()\n",
    "        self.batchNorm = nn.BatchNorm1d(1024)\n",
    "        #aplicamos nuestras convoluciones con un secuencial, esto fue definido para\n",
    "        #cumplir el requerimiento de crear una red CNN con los mismos parametros\n",
    "        #fue a prueba y error\n",
    "        self.cnn = nn.Sequential(\n",
    "            #aplica un bloque convolucional con entrada 10, salida 50, kernel de 2, padding de 1\n",
    "            #con un Avgpooling\n",
    "            ConvBlock(inChannels=1024, outChannels = 256, kernelSize = 2, padding=1, MaxPool=False),\n",
    "            #aplica un bloque convolucional con entrada 50, salida 150, kernel de 2, padding de 1\n",
    "            #con un Avgpooling\n",
    "            ConvBlock(inChannels=256, outChannels = 150, kernelSize = 2, padding=1, MaxPool=False),\n",
    "            #aplica un bloque convolucional con entrada 150, salida 200, kernel de 3, padding de 2\n",
    "            #con un maxpooling\n",
    "            ConvBlock(inChannels=150, outChannels = 200, kernelSize = 3, padding=2, MaxPool=True),\n",
    "            #aplica un bloque convolucional con entrada 200, salida 300, kernel de 3, padding de 2\n",
    "            #con un maxpooling\n",
    "            ConvBlock(inChannels=200, outChannels = 300, kernelSize = 3, padding=2, MaxPool=True),\n",
    "        )\n",
    "        #aplasta la salida del conjunto de bloques convolucionales\n",
    "        self.flatten = nn.Flatten()\n",
    "        #Sequential de classificacion\n",
    "        self.classifier = nn.Sequential(\n",
    "            #define una fully connected de entrada 19500 y salida 31\n",
    "            nn.Linear(600, 31),\n",
    "            #aplica una ReLU a la salida de la fully connected\n",
    "            nn.ReLU(),\n",
    "            #fully connected con salida igual a las clases para clasificacion\n",
    "            nn.Linear(31,11),   \n",
    "        )\n",
    "    #metodo de propagacion    \n",
    "    def forward(self, x):\n",
    "        #Los datos vienen como [batch, secuencia, caracteristicas] los permutamos a\n",
    "        # [batch, caract, secuencia] para pasarlos por el batchNorm y los cloques convoluacionales\n",
    "        x = x.permute(0, 2, 1)\n",
    "        #batchnorm\n",
    "        x = self.batchNorm(x)\n",
    "        #print para hacer debug\n",
    "        #print(x.shape)\n",
    "        #aplica bloques convolucionales\n",
    "        x = self.cnn(x)\n",
    "        #print para hacer debug\n",
    "        #print(x.shape)\n",
    "        #aplasta la salida de los bloques convolucionales\n",
    "        x = self.flatten(x)\n",
    "        #print para hacer debug\n",
    "        #print(x.shape)\n",
    "        #Fully connected para clasificacion\n",
    "        x = self.classifier(x)\n",
    "        return x"
   ]
  },
  {
   "cell_type": "code",
   "execution_count": 12,
   "metadata": {},
   "outputs": [
    {
     "data": {
      "text/plain": [
       "==========================================================================================\n",
       "Layer (type:depth-idx)                   Output Shape              Param #\n",
       "==========================================================================================\n",
       "├─BatchNorm1d: 1-1                       [-1, 1024, 10]            2,048\n",
       "├─Sequential: 1-2                        [-1, 300, 2]              --\n",
       "|    └─ConvBlock: 2-1                    [-1, 256, 5]              --\n",
       "|    |    └─Sequential: 3-1              [-1, 256, 5]              524,544\n",
       "|    └─ConvBlock: 2-2                    [-1, 150, 3]              --\n",
       "|    |    └─Sequential: 3-2              [-1, 150, 3]              76,950\n",
       "|    └─ConvBlock: 2-3                    [-1, 200, 2]              --\n",
       "|    |    └─Sequential: 3-3              [-1, 200, 2]              90,200\n",
       "|    └─ConvBlock: 2-4                    [-1, 300, 2]              --\n",
       "|    |    └─Sequential: 3-4              [-1, 300, 2]              180,300\n",
       "├─Flatten: 1-3                           [-1, 600]                 --\n",
       "├─Sequential: 1-4                        [-1, 11]                  --\n",
       "|    └─Linear: 2-5                       [-1, 31]                  18,631\n",
       "|    └─ReLU: 2-6                         [-1, 31]                  --\n",
       "|    └─Linear: 2-7                       [-1, 11]                  352\n",
       "==========================================================================================\n",
       "Total params: 893,025\n",
       "Trainable params: 893,025\n",
       "Non-trainable params: 0\n",
       "Total mult-adds (M): 10.05\n",
       "==========================================================================================\n",
       "Input size (MB): 0.04\n",
       "Forward/backward pass size (MB): 0.12\n",
       "Params size (MB): 3.41\n",
       "Estimated Total Size (MB): 3.57\n",
       "=========================================================================================="
      ]
     },
     "execution_count": 12,
     "metadata": {},
     "output_type": "execute_result"
    }
   ],
   "source": [
    "#instanciamos nuestro modelo RNN-GRU bidireccional\n",
    "modelCNN = CNN()\n",
    "#pasamos nuestro modelo al device\n",
    "modelCNN = modelCNN.to(device)\n",
    "#imprimimos el summary del modelo\n",
    "summary(modelCNN, (10, 1024), device = device, verbose = 0)"
   ]
  },
  {
   "cell_type": "code",
   "execution_count": 13,
   "metadata": {},
   "outputs": [
    {
     "data": {
      "text/plain": [
       "CNN(\n",
       "  (batchNorm): BatchNorm1d(1024, eps=1e-05, momentum=0.1, affine=True, track_running_stats=True)\n",
       "  (cnn): Sequential(\n",
       "    (0): ConvBlock(\n",
       "      (ConvNN): Sequential(\n",
       "        (0): Conv1d(1024, 256, kernel_size=(2,), stride=(1,), padding=(1,))\n",
       "        (1): ReLU()\n",
       "        (2): AvgPool1d(kernel_size=(2,), stride=(2,), padding=(0,))\n",
       "      )\n",
       "    )\n",
       "    (1): ConvBlock(\n",
       "      (ConvNN): Sequential(\n",
       "        (0): Conv1d(256, 150, kernel_size=(2,), stride=(1,), padding=(1,))\n",
       "        (1): ReLU()\n",
       "        (2): AvgPool1d(kernel_size=(2,), stride=(2,), padding=(0,))\n",
       "      )\n",
       "    )\n",
       "    (2): ConvBlock(\n",
       "      (ConvNN): Sequential(\n",
       "        (0): Conv1d(150, 200, kernel_size=(3,), stride=(1,), padding=(2,))\n",
       "        (1): ReLU()\n",
       "        (2): MaxPool1d(kernel_size=2, stride=2, padding=0, dilation=1, ceil_mode=False)\n",
       "      )\n",
       "    )\n",
       "    (3): ConvBlock(\n",
       "      (ConvNN): Sequential(\n",
       "        (0): Conv1d(200, 300, kernel_size=(3,), stride=(1,), padding=(2,))\n",
       "        (1): ReLU()\n",
       "        (2): MaxPool1d(kernel_size=2, stride=2, padding=0, dilation=1, ceil_mode=False)\n",
       "      )\n",
       "    )\n",
       "  )\n",
       "  (flatten): Flatten(start_dim=1, end_dim=-1)\n",
       "  (classifier): Sequential(\n",
       "    (0): Linear(in_features=600, out_features=31, bias=True)\n",
       "    (1): ReLU()\n",
       "    (2): Linear(in_features=31, out_features=11, bias=True)\n",
       "  )\n",
       ")"
      ]
     },
     "execution_count": 13,
     "metadata": {},
     "output_type": "execute_result"
    }
   ],
   "source": [
    "modelCNN"
   ]
  },
  {
   "cell_type": "markdown",
   "metadata": {},
   "source": [
    "## Funcion para entrenar"
   ]
  },
  {
   "cell_type": "code",
   "execution_count": 14,
   "metadata": {},
   "outputs": [],
   "source": [
    "#funcion para entrenar determinado numero de epocas\n",
    "def trainData(model, epochs, dataTrain, dataTest):\n",
    "    #reproducibilidad\n",
    "    torch.manual_seed(2021)\n",
    "    #creamos listas para guardar la perdida y exactitud de cada epoca\n",
    "    perdida = []\n",
    "    exactitud = []\n",
    "    #pasamos el modelo a la gpu (si hay, si no al cpu)\n",
    "    model.to(device, non_blocking=True)\n",
    "    #definimos el optimizador\n",
    "    optimizer = optimizerr.Adam(model.parameters(), lr=3e-4)\n",
    "    #ciclo de entrenamiento\n",
    "    for epoch in range(epochs):\n",
    "        model.train()\n",
    "        #entrena una epoca\n",
    "        for x, y in dataTrain:\n",
    "            #pasamos los tensores a la gpu (si hay, si no al cpu)\n",
    "            x = x.to(device, non_blocking=True)\n",
    "            y = y.to(device, non_blocking=True)\n",
    "            #inferencia para obtener logits\n",
    "            logits = model(x)\n",
    "            #calculamos la perdida\n",
    "            loss = func.cross_entropy(logits, y)\n",
    "            #vaciamos gradientes\n",
    "            optimizer.zero_grad()\n",
    "            #retropropagacion\n",
    "            loss.backward()\n",
    "            #actualiza parametros\n",
    "            optimizer.step()\n",
    "        #desactivamos la modificacion de parametros para evaluar    \n",
    "        with torch.no_grad():\n",
    "            #modelo en modo de evaluacion\n",
    "            model.eval()\n",
    "            #listas para cacular la perdida el el accuracy de la epoca\n",
    "            losses, accs = [], []\n",
    "            #validamos la epoca\n",
    "            for x, y in dataTest:\n",
    "                #pasamos los tensores a la gpu (si hay, si no al cpu)\n",
    "                x = x.to(device, non_blocking=True)\n",
    "                y = y.to(device, non_blocking=True)\n",
    "                #calculamos logits\n",
    "                logits = model(x)\n",
    "                #calculamos la probabilidad de cada clase\n",
    "                proba = func.softmax(logits, 1)\n",
    "                #obtenemos la clase predicha\n",
    "                predicted = torch.argmax(proba, 1)\n",
    "                #calculamos la perdida\n",
    "                loss = func.cross_entropy(logits, y)\n",
    "                #calculamos el accuracy\n",
    "                acc = (y == predicted).type(torch.float32).mean()\n",
    "                #guardamos los valores de loss y acc\n",
    "                losses.append(loss.item() * 100)\n",
    "                accs.append(acc.item() * 100)\n",
    "            #imprimimos metricas\n",
    "            loss = np.mean(losses)\n",
    "            acc = np.mean(accs)\n",
    "            print(f'Epoca {epoch:2},  Perdida={loss:6.2f},  acc={acc:0.2f}')\n",
    "            #guardamos en las listas las metricas de cada epoca\n",
    "            perdida.append(loss)\n",
    "            exactitud.append(acc)\n",
    "    return perdida, exactitud"
   ]
  },
  {
   "cell_type": "code",
   "execution_count": 15,
   "metadata": {},
   "outputs": [
    {
     "name": "stdout",
     "output_type": "stream",
     "text": [
      "Epoca  0,  Perdida=215.35,  acc=30.94\n",
      "Epoca  1,  Perdida=195.30,  acc=37.19\n",
      "Epoca  2,  Perdida=181.78,  acc=37.81\n",
      "Epoca  3,  Perdida=173.39,  acc=45.94\n",
      "Epoca  4,  Perdida=166.45,  acc=47.19\n",
      "Epoca  5,  Perdida=160.72,  acc=47.81\n",
      "Epoca  6,  Perdida=155.31,  acc=48.12\n",
      "Epoca  7,  Perdida=151.63,  acc=50.00\n",
      "Epoca  8,  Perdida=146.65,  acc=52.19\n",
      "Epoca  9,  Perdida=142.32,  acc=52.81\n",
      "Epoca 10,  Perdida=142.40,  acc=53.75\n",
      "Epoca 11,  Perdida=139.85,  acc=55.31\n",
      "Epoca 12,  Perdida=135.64,  acc=54.69\n",
      "Epoca 13,  Perdida=134.12,  acc=57.19\n",
      "Epoca 14,  Perdida=133.47,  acc=55.00\n",
      "Epoca 15,  Perdida=131.31,  acc=55.62\n",
      "Epoca 16,  Perdida=134.13,  acc=55.94\n",
      "Epoca 17,  Perdida=135.12,  acc=56.88\n",
      "Epoca 18,  Perdida=135.66,  acc=56.88\n",
      "Epoca 19,  Perdida=137.45,  acc=56.88\n",
      "Epoca 20,  Perdida=137.47,  acc=57.19\n",
      "Epoca 21,  Perdida=137.78,  acc=58.12\n",
      "Epoca 22,  Perdida=137.16,  acc=57.81\n",
      "Epoca 23,  Perdida=146.24,  acc=56.56\n",
      "Epoca 24,  Perdida=141.00,  acc=57.81\n",
      "Epoca 25,  Perdida=146.91,  acc=57.19\n",
      "Epoca 26,  Perdida=146.81,  acc=58.12\n",
      "Epoca 27,  Perdida=146.48,  acc=57.81\n",
      "Epoca 28,  Perdida=145.34,  acc=57.50\n",
      "Epoca 29,  Perdida=151.32,  acc=56.88\n",
      "Epoca 30,  Perdida=150.60,  acc=57.81\n",
      "Epoca 31,  Perdida=157.72,  acc=55.31\n",
      "Epoca 32,  Perdida=155.70,  acc=56.56\n",
      "Epoca 33,  Perdida=158.36,  acc=56.88\n",
      "Epoca 34,  Perdida=156.76,  acc=58.12\n",
      "Epoca 35,  Perdida=155.85,  acc=58.12\n",
      "Epoca 36,  Perdida=158.55,  acc=57.19\n",
      "Epoca 37,  Perdida=155.85,  acc=57.50\n",
      "Epoca 38,  Perdida=162.11,  acc=58.44\n",
      "Epoca 39,  Perdida=156.37,  acc=56.56\n",
      "Epoca 40,  Perdida=161.80,  acc=54.69\n",
      "Epoca 41,  Perdida=158.51,  acc=57.19\n",
      "Epoca 42,  Perdida=161.13,  acc=56.25\n",
      "Epoca 43,  Perdida=166.48,  acc=56.88\n",
      "Epoca 44,  Perdida=165.71,  acc=55.62\n",
      "Epoca 45,  Perdida=160.68,  acc=58.75\n",
      "Epoca 46,  Perdida=169.89,  acc=57.19\n",
      "Epoca 47,  Perdida=169.39,  acc=57.19\n",
      "Epoca 48,  Perdida=179.07,  acc=56.25\n",
      "Epoca 49,  Perdida=172.37,  acc=57.50\n",
      "Epoca 50,  Perdida=170.38,  acc=57.81\n",
      "Epoca 51,  Perdida=170.44,  acc=58.12\n",
      "Epoca 52,  Perdida=173.17,  acc=57.81\n",
      "Epoca 53,  Perdida=171.74,  acc=57.19\n",
      "Epoca 54,  Perdida=172.25,  acc=58.44\n",
      "Epoca 55,  Perdida=172.56,  acc=57.50\n",
      "Epoca 56,  Perdida=177.16,  acc=56.88\n",
      "Epoca 57,  Perdida=168.38,  acc=57.50\n",
      "Epoca 58,  Perdida=180.48,  acc=56.25\n",
      "Epoca 59,  Perdida=173.60,  acc=55.94\n",
      "Epoca 60,  Perdida=173.11,  acc=58.44\n",
      "Epoca 61,  Perdida=176.38,  acc=57.50\n",
      "Epoca 62,  Perdida=180.34,  acc=55.94\n",
      "Epoca 63,  Perdida=182.82,  acc=57.19\n",
      "Epoca 64,  Perdida=180.40,  acc=57.81\n",
      "Epoca 65,  Perdida=179.25,  acc=58.12\n",
      "Epoca 66,  Perdida=181.33,  acc=56.88\n",
      "Epoca 67,  Perdida=179.96,  acc=57.81\n",
      "Epoca 68,  Perdida=181.65,  acc=57.19\n",
      "Epoca 69,  Perdida=182.53,  acc=57.19\n",
      "Epoca 70,  Perdida=183.71,  acc=58.75\n",
      "Epoca 71,  Perdida=184.51,  acc=55.94\n",
      "Epoca 72,  Perdida=186.05,  acc=56.88\n",
      "Epoca 73,  Perdida=181.43,  acc=55.94\n",
      "Epoca 74,  Perdida=183.97,  acc=56.56\n",
      "Epoca 75,  Perdida=183.08,  acc=58.44\n",
      "Epoca 76,  Perdida=183.13,  acc=57.50\n",
      "Epoca 77,  Perdida=181.71,  acc=58.12\n",
      "Epoca 78,  Perdida=181.20,  acc=58.12\n",
      "Epoca 79,  Perdida=184.88,  acc=59.69\n"
     ]
    }
   ],
   "source": [
    "lossRNN, accRNN = trainData(modelRNN, epochs=80, dataTrain=trainLoader, dataTest = testLoader)"
   ]
  },
  {
   "cell_type": "code",
   "execution_count": 16,
   "metadata": {},
   "outputs": [
    {
     "name": "stdout",
     "output_type": "stream",
     "text": [
      "Epoca  0,  Perdida=232.99,  acc=16.56\n",
      "Epoca  1,  Perdida=220.85,  acc=25.62\n",
      "Epoca  2,  Perdida=209.97,  acc=28.44\n",
      "Epoca  3,  Perdida=190.67,  acc=31.88\n",
      "Epoca  4,  Perdida=182.14,  acc=38.44\n",
      "Epoca  5,  Perdida=174.82,  acc=43.75\n",
      "Epoca  6,  Perdida=175.73,  acc=46.25\n",
      "Epoca  7,  Perdida=168.04,  acc=47.50\n",
      "Epoca  8,  Perdida=180.47,  acc=49.06\n",
      "Epoca  9,  Perdida=184.84,  acc=50.94\n",
      "Epoca 10,  Perdida=183.34,  acc=45.31\n",
      "Epoca 11,  Perdida=186.05,  acc=50.62\n",
      "Epoca 12,  Perdida=176.86,  acc=56.56\n",
      "Epoca 13,  Perdida=217.50,  acc=47.50\n",
      "Epoca 14,  Perdida=185.73,  acc=56.25\n",
      "Epoca 15,  Perdida=196.28,  acc=54.38\n",
      "Epoca 16,  Perdida=229.21,  acc=49.06\n",
      "Epoca 17,  Perdida=212.01,  acc=53.75\n",
      "Epoca 18,  Perdida=211.92,  acc=57.19\n",
      "Epoca 19,  Perdida=220.72,  acc=55.62\n",
      "Epoca 20,  Perdida=252.06,  acc=53.75\n",
      "Epoca 21,  Perdida=241.95,  acc=55.62\n",
      "Epoca 22,  Perdida=238.23,  acc=50.94\n",
      "Epoca 23,  Perdida=252.74,  acc=55.31\n",
      "Epoca 24,  Perdida=255.30,  acc=55.31\n",
      "Epoca 25,  Perdida=288.12,  acc=46.88\n",
      "Epoca 26,  Perdida=271.20,  acc=53.44\n",
      "Epoca 27,  Perdida=297.03,  acc=55.31\n",
      "Epoca 28,  Perdida=268.76,  acc=55.31\n",
      "Epoca 29,  Perdida=293.79,  acc=53.75\n",
      "Epoca 30,  Perdida=265.07,  acc=56.88\n",
      "Epoca 31,  Perdida=323.73,  acc=55.00\n",
      "Epoca 32,  Perdida=273.78,  acc=56.56\n",
      "Epoca 33,  Perdida=307.66,  acc=56.25\n",
      "Epoca 34,  Perdida=309.67,  acc=55.00\n",
      "Epoca 35,  Perdida=286.15,  acc=55.62\n",
      "Epoca 36,  Perdida=292.33,  acc=54.69\n",
      "Epoca 37,  Perdida=277.25,  acc=54.69\n",
      "Epoca 38,  Perdida=331.81,  acc=57.50\n",
      "Epoca 39,  Perdida=294.94,  acc=54.69\n",
      "Epoca 40,  Perdida=321.40,  acc=54.38\n",
      "Epoca 41,  Perdida=355.18,  acc=52.81\n",
      "Epoca 42,  Perdida=321.27,  acc=54.06\n",
      "Epoca 43,  Perdida=323.72,  acc=58.75\n",
      "Epoca 44,  Perdida=282.50,  acc=55.31\n",
      "Epoca 45,  Perdida=284.81,  acc=57.81\n",
      "Epoca 46,  Perdida=314.48,  acc=57.19\n",
      "Epoca 47,  Perdida=344.34,  acc=55.94\n",
      "Epoca 48,  Perdida=307.48,  acc=56.56\n",
      "Epoca 49,  Perdida=318.25,  acc=58.12\n",
      "Epoca 50,  Perdida=327.91,  acc=57.81\n",
      "Epoca 51,  Perdida=348.33,  acc=57.50\n",
      "Epoca 52,  Perdida=326.21,  acc=58.75\n",
      "Epoca 53,  Perdida=343.44,  acc=59.06\n",
      "Epoca 54,  Perdida=333.86,  acc=57.81\n",
      "Epoca 55,  Perdida=331.04,  acc=59.06\n",
      "Epoca 56,  Perdida=394.52,  acc=54.69\n",
      "Epoca 57,  Perdida=347.28,  acc=55.00\n",
      "Epoca 58,  Perdida=313.72,  acc=53.44\n",
      "Epoca 59,  Perdida=295.14,  acc=53.75\n",
      "Epoca 60,  Perdida=286.35,  acc=56.56\n",
      "Epoca 61,  Perdida=296.06,  acc=58.12\n",
      "Epoca 62,  Perdida=307.48,  acc=57.19\n",
      "Epoca 63,  Perdida=297.82,  acc=58.12\n",
      "Epoca 64,  Perdida=295.78,  acc=61.25\n",
      "Epoca 65,  Perdida=319.58,  acc=56.56\n",
      "Epoca 66,  Perdida=312.33,  acc=59.38\n",
      "Epoca 67,  Perdida=324.41,  acc=58.12\n",
      "Epoca 68,  Perdida=285.51,  acc=57.81\n",
      "Epoca 69,  Perdida=281.06,  acc=59.06\n",
      "Epoca 70,  Perdida=270.89,  acc=56.56\n",
      "Epoca 71,  Perdida=293.29,  acc=57.81\n",
      "Epoca 72,  Perdida=309.78,  acc=60.31\n",
      "Epoca 73,  Perdida=317.05,  acc=57.81\n",
      "Epoca 74,  Perdida=307.93,  acc=54.06\n",
      "Epoca 75,  Perdida=287.50,  acc=56.56\n",
      "Epoca 76,  Perdida=274.39,  acc=55.94\n",
      "Epoca 77,  Perdida=296.24,  acc=56.25\n",
      "Epoca 78,  Perdida=285.05,  acc=58.75\n",
      "Epoca 79,  Perdida=296.10,  acc=58.44\n"
     ]
    }
   ],
   "source": [
    "lossCNN, accCNN = trainData(modelCNN, epochs=80, dataTrain=trainLoader, dataTest = testLoader)"
   ]
  },
  {
   "cell_type": "code",
   "execution_count": 17,
   "metadata": {},
   "outputs": [],
   "source": [
    "## Creamos una funcion que grafica los datos de accuracy en entrenamiento:\n",
    "def graficaAcc(accurac):\n",
    "    plt.plot(np.arange(len(accurac)), accurac, '--', label='Accuracy', color = 'red')\n",
    "    plt.legend()\n",
    "    plt.xlabel('Epocas')\n",
    "    plt.ylabel('Accuracy Entrenamiento')\n",
    "    plt.grid(True)\n",
    "    plt.show()\n",
    "    \n",
    "## Creamos una funcion que grafica los datos de la perdida en entrenamiento:\n",
    "def graficaLoss(perdidas):\n",
    "    plt.plot(np.arange(len(perdidas)), perdidas, '--', label='Perdida', color = 'blue')\n",
    "    plt.legend()\n",
    "    plt.xlabel('Epocas')\n",
    "    plt.ylabel('Perdida Entrenamiento')\n",
    "    plt.grid(True)\n",
    "    plt.show()"
   ]
  },
  {
   "cell_type": "code",
   "execution_count": 18,
   "metadata": {},
   "outputs": [
    {
     "data": {
      "image/png": "[encoded data removed]",
      "text/plain": [
       "<Figure size 432x288 with 1 Axes>"
      ]
     },
     "metadata": {
      "needs_background": "light"
     },
     "output_type": "display_data"
    }
   ],
   "source": [
    "#graficamos acurracy de la RNN\n",
    "graficaAcc(accRNN)"
   ]
  },
  {
   "cell_type": "code",
   "execution_count": 19,
   "metadata": {},
   "outputs": [
    {
     "data": {
      "image/png": "[encoded data removed]",
      "text/plain": [
       "<Figure size 432x288 with 1 Axes>"
      ]
     },
     "metadata": {
      "needs_background": "light"
     },
     "output_type": "display_data"
    }
   ],
   "source": [
    "#graficamos la perdida de la RNN\n",
    "graficaLoss(lossRNN)"
   ]
  },
  {
   "cell_type": "code",
   "execution_count": 20,
   "metadata": {},
   "outputs": [
    {
     "data": {
      "image/png": "[encoded data removed]",
      "text/plain": [
       "<Figure size 432x288 with 1 Axes>"
      ]
     },
     "metadata": {
      "needs_background": "light"
     },
     "output_type": "display_data"
    }
   ],
   "source": [
    "#graficamos acurracy de la CNN\n",
    "graficaAcc(accCNN)"
   ]
  },
  {
   "cell_type": "code",
   "execution_count": 21,
   "metadata": {},
   "outputs": [
    {
     "data": {
      "image/png": "[encoded data removed]",
      "text/plain": [
       "<Figure size 432x288 with 1 Axes>"
      ]
     },
     "metadata": {
      "needs_background": "light"
     },
     "output_type": "display_data"
    }
   ],
   "source": [
    "#graficamos la perdida de la CNN\n",
    "graficaLoss(lossCNN)"
   ]
  },
  {
   "cell_type": "markdown",
   "metadata": {},
   "source": [
    "# Discusión\n",
    "\n",
    "Aparentemente el modelo RNN con capa GRU entrena ligeramente más rápido que el modelo CNN, esto puede deberse a que el CNN tiene aproximadamente 2 mil parametros entrenables más. Ambos modelos entrenados por 80 epocas terminan con un accuracy muy similar. 60% para RNN y 58.4% para el CNN. De las graficas de accuracy vemos que el modelo de RNN \"converge\" más rápido con respecto al CNN. Así mismo el accuracy es menos ruidoso para la RNN.\n",
    "Para ambos modelos la perdida tiende a incrementar a lo largo de las epocas, sin embargo, esto no tiene interpretación alguna.\n",
    "Finalmente, vemos que el accuraccy para ambos modelos es muy bajo a lo esperado a pesar de usar 80 epocas de entrenamiento. Esto puede deberse a que la cantidad de datos empleados es muy pequeña (1599) como para que al menos un modelo pueda generalizar las caracteristicas objetivo. De una manera similar, dado que el dataset viene como una matriz y no como imagenes no sabemos si el dataset está bien balanceado. Si el dataset está muy desbalanceado, es claro que el accuracy será bajo en algunos casos. Si el data set está balanceado podemos usar el argumento de los datos pequeños.\n",
    "El modelo de la CNN se contruyó a modo de intentar emular la RNN, de alguna manera. Este hecho a parentemente pudo lograrse con una gran cantidad de bloques convolucionales y variando los maxpooling. Aún cuando se alcanzó un accuracy similar en ambos casos no es posible conocer el poder expresivo de los mismos, que quizá alguno de ellos sea más expresivo para esta tarea."
   ]
  }
 ],
 "metadata": {
  "kernelspec": {
   "display_name": "Python 3",
   "language": "python",
   "name": "python3"
  },
  "language_info": {
   "codemirror_mode": {
    "name": "ipython",
    "version": 3
   },
   "file_extension": ".py",
   "mimetype": "text/x-python",
   "name": "python",
   "nbconvert_exporter": "python",
   "pygments_lexer": "ipython3",
   "version": "3.8.5"
  }
 },
 "nbformat": 4,
 "nbformat_minor": 4
}
